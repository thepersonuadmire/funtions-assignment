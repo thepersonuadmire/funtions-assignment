{
  "nbformat": 4,
  "nbformat_minor": 0,
  "metadata": {
    "colab": {
      "provenance": [],
      "toc_visible": true,
      "authorship_tag": "ABX9TyOQ/wyOpxDqE5FWF9NqsLXo",
      "include_colab_link": true
    },
    "kernelspec": {
      "name": "python3",
      "display_name": "Python 3"
    },
    "language_info": {
      "name": "python"
    }
  },
  "cells": [
    {
      "cell_type": "markdown",
      "metadata": {
        "id": "view-in-github",
        "colab_type": "text"
      },
      "source": [
        "<a href=\"https://colab.research.google.com/github/thepersonuadmire/funtions-assignment/blob/main/Functions_Assignment.ipynb\" target=\"_parent\"><img src=\"https://colab.research.google.com/assets/colab-badge.svg\" alt=\"Open In Colab\"/></a>"
      ]
    },
    {
      "cell_type": "markdown",
      "source": [
        "Theory Questions:"
      ],
      "metadata": {
        "id": "dd4M3prjzNtq"
      }
    },
    {
      "cell_type": "markdown",
      "source": [
        "1. What is the difference between a function and a method in Python?"
      ],
      "metadata": {
        "id": "RTZR1GhXzQjK"
      }
    },
    {
      "cell_type": "markdown",
      "source": [
        "Function: A block of reusable code defined using def, which operates independently of objects.\n",
        "\n",
        "Method: A function that is associated with an object and is called using the object."
      ],
      "metadata": {
        "id": "w0CYUkgxzmXk"
      }
    },
    {
      "cell_type": "code",
      "source": [
        "# Function\n",
        "def greet(name):\n",
        "    return f\"Hello, {name}!\"\n",
        "\n",
        "# Method\n",
        "class Greeter:\n",
        "    def greet(self, name):\n",
        "        return f\"Hello, {name}!\"\n",
        "\n",
        "# Usage\n",
        "print(greet(\"Alice\"))  # Function call\n",
        "g = Greeter()\n",
        "print(g.greet(\"Bob\"))  # Method call\n"
      ],
      "metadata": {
        "id": "WyAQfh1QzqrF"
      },
      "execution_count": null,
      "outputs": []
    },
    {
      "cell_type": "markdown",
      "source": [
        "2. Explain the concept of function arguments and parameters in Python."
      ],
      "metadata": {
        "id": "q3GWY_kazxTA"
      }
    },
    {
      "cell_type": "markdown",
      "source": [
        "Parameters: Variables defined in the function signature.\n",
        "\n",
        "Arguments: Values passed to the function when called."
      ],
      "metadata": {
        "id": "cqptpstq0rPC"
      }
    },
    {
      "cell_type": "code",
      "source": [
        "def add(a, b):  # a, b are parameters\n",
        "    return a + b\n",
        "\n",
        "print(add(3, 5))  # 3, 5 are arguments\n"
      ],
      "metadata": {
        "id": "LzQ_6KDi0tNH"
      },
      "execution_count": null,
      "outputs": []
    },
    {
      "cell_type": "markdown",
      "source": [
        "3. What are the different ways to define and call a function in Python?"
      ],
      "metadata": {
        "id": "0gTK7rJGz29W"
      }
    },
    {
      "cell_type": "markdown",
      "source": [
        "Defining:\n",
        "\n",
        "Using def.\n",
        "Using lambda for anonymous functions.\n",
        "\n",
        "Calling:\n",
        "\n",
        "Positional arguments.\n",
        "Keyword arguments.\n",
        "Default arguments."
      ],
      "metadata": {
        "id": "33_uaE-E03Wj"
      }
    },
    {
      "cell_type": "code",
      "source": [
        "# Defining\n",
        "def multiply(a, b=2):  # Default argument\n",
        "    return a * b\n",
        "\n",
        "# Calling\n",
        "print(multiply(3))           # Positional argument\n",
        "print(multiply(a=3, b=4))    # Keyword argument\n"
      ],
      "metadata": {
        "id": "Yabo1MWI07aD"
      },
      "execution_count": null,
      "outputs": []
    },
    {
      "cell_type": "markdown",
      "source": [
        "4. What is the purpose of the `return` statement in a Python function?"
      ],
      "metadata": {
        "id": "wUadEp1xz7Xi"
      }
    },
    {
      "cell_type": "markdown",
      "source": [
        "It specifies the value a function gives back after execution.\n",
        "It allows a function to produce a result."
      ],
      "metadata": {
        "id": "fc874FZA1C4v"
      }
    },
    {
      "cell_type": "code",
      "source": [
        "def square(num):\n",
        "    return num ** 2\n",
        "\n",
        "print(square(4))  # Output: 16\n"
      ],
      "metadata": {
        "id": "k_UDdarG1H13"
      },
      "execution_count": null,
      "outputs": []
    },
    {
      "cell_type": "markdown",
      "source": [
        "5. What are iterators in Python and how do they differ from iterables?"
      ],
      "metadata": {
        "id": "HGfHtCMd0Ain"
      }
    },
    {
      "cell_type": "markdown",
      "source": [
        "Iterable: An object that can be looped over (e.g., list, tuple).\n",
        "\n",
        "Iterator: An object with a __next__() method that retrieves items from an iterable one at a time."
      ],
      "metadata": {
        "id": "rG4LgW0X1LUn"
      }
    },
    {
      "cell_type": "code",
      "source": [
        "nums = [1, 2, 3]  # Iterable\n",
        "it = iter(nums)   # Iterator\n",
        "print(next(it))   # Output: 1\n",
        "print(next(it))   # Output: 2\n"
      ],
      "metadata": {
        "id": "ALmn08u61RYM"
      },
      "execution_count": null,
      "outputs": []
    },
    {
      "cell_type": "markdown",
      "source": [
        "6. Explain the concept of generators in Python and how they are defined."
      ],
      "metadata": {
        "id": "vB138spv0G1_"
      }
    },
    {
      "cell_type": "markdown",
      "source": [
        "Generators are functions that yield values one at a time using the yield keyword.\n",
        "They are used for lazy evaluation."
      ],
      "metadata": {
        "id": "Pmr2Kd3w1VpX"
      }
    },
    {
      "cell_type": "code",
      "source": [
        "def count_up_to(max):\n",
        "    count = 1\n",
        "    while count <= max:\n",
        "        yield count\n",
        "        count += 1\n",
        "\n",
        "for num in count_up_to(3):\n",
        "    print(num)\n"
      ],
      "metadata": {
        "id": "WsqTIN9L1akE"
      },
      "execution_count": null,
      "outputs": []
    },
    {
      "cell_type": "markdown",
      "source": [
        "7. What are the advantages of using generators over regular functions?"
      ],
      "metadata": {
        "id": "u3kagA1i0DUL"
      }
    },
    {
      "cell_type": "markdown",
      "source": [
        "Memory Efficiency: Generators don’t store all values in memory.\n",
        "\n",
        "Lazy Evaluation: Values are generated on-the-fly."
      ],
      "metadata": {
        "id": "fqvlXY801eVx"
      }
    },
    {
      "cell_type": "code",
      "source": [
        "def generate_squares(n):\n",
        "    for i in range(n):\n",
        "        yield i ** 2\n",
        "\n",
        "print(list(generate_squares(5)))  # Output: [0, 1, 4, 9, 16]\n"
      ],
      "metadata": {
        "id": "7Tro5yvb1jvf"
      },
      "execution_count": null,
      "outputs": []
    },
    {
      "cell_type": "markdown",
      "source": [
        "8. What is a lambda function in Python and when is it typically used?"
      ],
      "metadata": {
        "id": "ToYQfFuc0O9d"
      }
    },
    {
      "cell_type": "markdown",
      "source": [
        "Anonymous functions defined using lambda. It is Used for short, simple tasks.\n"
      ],
      "metadata": {
        "id": "jkWg3ToW1l7_"
      }
    },
    {
      "cell_type": "code",
      "source": [
        "square = lambda x: x ** 2\n",
        "print(square(5))  # Output: 25\n"
      ],
      "metadata": {
        "id": "mu2u9pxC10hR"
      },
      "execution_count": null,
      "outputs": []
    },
    {
      "cell_type": "markdown",
      "source": [
        "9. Explain the purpose and usage of the `map()` function in Python."
      ],
      "metadata": {
        "id": "wb7VEXe_0SYN"
      }
    },
    {
      "cell_type": "markdown",
      "source": [
        "Applies a function to every item in an iterable."
      ],
      "metadata": {
        "id": "S4zy2uI912p3"
      }
    },
    {
      "cell_type": "code",
      "source": [
        "nums = [1, 2, 3]\n",
        "squares = map(lambda x: x ** 2, nums)\n",
        "print(list(squares))  # Output: [1, 4, 9]\n"
      ],
      "metadata": {
        "id": "gLDtU_N416Cr"
      },
      "execution_count": null,
      "outputs": []
    },
    {
      "cell_type": "markdown",
      "source": [
        "10. What is the difference between `map()`, `reduce()`, and `filter()` functions in Python?"
      ],
      "metadata": {
        "id": "hcm87RiR4CZg"
      }
    },
    {
      "cell_type": "markdown",
      "source": [
        "map() : Applies a function to each element of an iterable.\n",
        "\n",
        "Input : Function + Iterable\n",
        "\n",
        "Output : New iterable (mapped values)"
      ],
      "metadata": {
        "id": "O89M2qtH5NBL"
      }
    },
    {
      "cell_type": "code",
      "source": [
        "nums = [1, 2, 3]\n",
        "squares = map(lambda x: x**2, nums)\n",
        "print(list(squares))  # Output: [1, 4, 9]\n"
      ],
      "metadata": {
        "id": "BFUjWTuG4WSN"
      },
      "execution_count": null,
      "outputs": []
    },
    {
      "cell_type": "markdown",
      "source": [
        "reduce() : Performs a rolling computation (aggregation) on pairs of elements in an iterable.\n",
        "\n",
        "Input : Function + Iterable\n",
        "\n",
        "Output : Single value (result of aggregation)"
      ],
      "metadata": {
        "id": "OnxKN4oIylFw"
      }
    },
    {
      "cell_type": "code",
      "source": [
        "from functools import reduce\n",
        "nums = [1, 2, 3]\n",
        "result = reduce(lambda x, y: x + y, nums)\n",
        "print(result)  # Output: 6\n"
      ],
      "metadata": {
        "id": "irAJL6nHyo56"
      },
      "execution_count": null,
      "outputs": []
    },
    {
      "cell_type": "markdown",
      "source": [
        "filter() : Filters elements of an iterable based on a condition.\n",
        "\n",
        "Input : Function (returning True/False) + Iterable\n",
        "\n",
        "Output : New iterable (filtered values)"
      ],
      "metadata": {
        "id": "6r227PjkytJO"
      }
    },
    {
      "cell_type": "code",
      "source": [
        "nums = [1, 2, 3, 4]\n",
        "evens = filter(lambda x: x % 2 == 0, nums)\n",
        "print(list(evens))  # Output: [2, 4]\n"
      ],
      "metadata": {
        "id": "rR9WUmf1yqRs"
      },
      "execution_count": null,
      "outputs": []
    },
    {
      "cell_type": "markdown",
      "source": [
        "11. Using pen & Paper write the internal mechanism for sum operation using  reduce function on this given list:[47,11,42,13];"
      ],
      "metadata": {
        "id": "gX70RdeD4X_j"
      }
    },
    {
      "cell_type": "markdown",
      "source": [
        "![funtions 11.jpg](data:image/jpeg;base64,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)"
      ],
      "metadata": {
        "id": "QolMIRkD4deC"
      }
    },
    {
      "cell_type": "markdown",
      "source": [
        "Practical Questions:"
      ],
      "metadata": {
        "id": "HW9MdtVs1_xe"
      }
    },
    {
      "cell_type": "markdown",
      "source": [
        "1. Write a Python function that takes a list of numbers as input and returns the sum of all even numbers in the list."
      ],
      "metadata": {
        "id": "vjUWsFee2IFv"
      }
    },
    {
      "cell_type": "code",
      "source": [
        "def sum_of_evens(numbers):\n",
        "    return sum(num for num in numbers if num % 2 == 0)\n",
        "\n",
        "# Example usage:\n",
        "print(sum_of_evens([1, 2, 3, 4, 5, 6]))  # Output: 12\n"
      ],
      "metadata": {
        "id": "7pd3pHv02it_"
      },
      "execution_count": null,
      "outputs": []
    },
    {
      "cell_type": "markdown",
      "source": [
        "2. Create a Python function that accepts a string and returns the reverse of that string."
      ],
      "metadata": {
        "id": "_hY_guAG2g8h"
      }
    },
    {
      "cell_type": "code",
      "source": [
        "def reverse_string(s):\n",
        "    return s[::-1]\n",
        "\n",
        "# Example usage:\n",
        "print(reverse_string(\"hello\"))  # Output: \"olleh\"\n"
      ],
      "metadata": {
        "id": "XsEV0mbQ2mNs"
      },
      "execution_count": null,
      "outputs": []
    },
    {
      "cell_type": "markdown",
      "source": [
        "3. Implement a Python function that takes a list of integers and returns a new list containing the squares of each number."
      ],
      "metadata": {
        "id": "OzmBt29m2mi9"
      }
    },
    {
      "cell_type": "code",
      "source": [
        "def square_numbers(numbers):\n",
        "    return [num ** 2 for num in numbers]\n",
        "\n",
        "# Example usage:\n",
        "print(square_numbers([1, 2, 3, 4]))  # Output: [1, 4, 9, 16]\n"
      ],
      "metadata": {
        "id": "zFhMI2DQ2pzY"
      },
      "execution_count": null,
      "outputs": []
    },
    {
      "cell_type": "markdown",
      "source": [
        "4. Write a Python function that checks if a given number is prime or not from 1 to 200."
      ],
      "metadata": {
        "id": "ACbiQG3g2qF_"
      }
    },
    {
      "cell_type": "code",
      "source": [
        "def is_prime(n):\n",
        "    if n <= 1:\n",
        "        return False\n",
        "    for i in range(2, int(n ** 0.5) + 1):\n",
        "        if n % i == 0:\n",
        "            return False\n",
        "    return True\n",
        "\n",
        "# Example usage:\n",
        "print([n for n in range(1, 201) if is_prime(n)])\n"
      ],
      "metadata": {
        "id": "LOs4HeW82tQJ"
      },
      "execution_count": null,
      "outputs": []
    },
    {
      "cell_type": "markdown",
      "source": [
        "5. Create an iterator class in Python that generates the Fibonacci sequence up to a specified number of terms."
      ],
      "metadata": {
        "id": "NnXSB3rD2tib"
      }
    },
    {
      "cell_type": "code",
      "source": [
        "class FibonacciIterator:\n",
        "    def __init__(self, terms):\n",
        "        self.terms = terms\n",
        "        self.current = 0\n",
        "        self.next = 1\n",
        "        self.count = 0\n",
        "\n",
        "    def __iter__(self):\n",
        "        return self\n",
        "\n",
        "    def __next__(self):\n",
        "        if self.count >= self.terms:\n",
        "            raise StopIteration\n",
        "        self.count += 1\n",
        "        result = self.current\n",
        "        self.current, self.next = self.next, self.current + self.next\n",
        "        return result\n",
        "\n",
        "# Example usage:\n",
        "fib = FibonacciIterator(10)\n",
        "print(list(fib))  # Output: First 10 Fibonacci numbers\n"
      ],
      "metadata": {
        "id": "BvgTqgXq2wKn"
      },
      "execution_count": null,
      "outputs": []
    },
    {
      "cell_type": "markdown",
      "source": [
        "6. Write a generator function in Python that yields the powers of 2 up to a given exponent."
      ],
      "metadata": {
        "id": "q_sRsGhd2wnr"
      }
    },
    {
      "cell_type": "code",
      "source": [
        "def powers_of_two(exponent):\n",
        "    for i in range(exponent + 1):\n",
        "        yield 2 ** i\n",
        "\n",
        "# Example usage:\n",
        "print(list(powers_of_two(5)))  # Output: [1, 2, 4, 8, 16, 32]\n"
      ],
      "metadata": {
        "id": "oo3TVDRH213h"
      },
      "execution_count": null,
      "outputs": []
    },
    {
      "cell_type": "markdown",
      "source": [
        "7. Implement a generator function that reads a file line by line and yields each line as a string."
      ],
      "metadata": {
        "id": "YpBPYDpd22Mg"
      }
    },
    {
      "cell_type": "code",
      "source": [
        "def read_file_line_by_line(file_path):\n",
        "    with open(file_path, 'r') as file:\n",
        "        for line in file:\n",
        "            yield line.strip()\n",
        "\n",
        "# Example usage:\n",
        "# for line in read_file_line_by_line('example.txt'):\n",
        "#     print(line)\n"
      ],
      "metadata": {
        "id": "2Q5MomOP25AL"
      },
      "execution_count": null,
      "outputs": []
    },
    {
      "cell_type": "markdown",
      "source": [
        "8. Use a lambda function in Python to sort a list of tuples based on the second element of each tuple."
      ],
      "metadata": {
        "id": "0QSteXXq25Sl"
      }
    },
    {
      "cell_type": "code",
      "source": [
        "tuples = [(1, 3), (4, 1), (2, 2)]\n",
        "sorted_tuples = sorted(tuples, key=lambda x: x[1])\n",
        "print(sorted_tuples)  # Output: [(4, 1), (2, 2), (1, 3)]\n"
      ],
      "metadata": {
        "id": "oo6-fL_d28Dj"
      },
      "execution_count": null,
      "outputs": []
    },
    {
      "cell_type": "markdown",
      "source": [
        "9. Write a Python program that uses `map()` to convert a list of temperatures from Celsius to Fahrenheit."
      ],
      "metadata": {
        "id": "TPz-S-DT28fH"
      }
    },
    {
      "cell_type": "code",
      "source": [
        "def celsius_to_fahrenheit(celsius_list):\n",
        "    return list(map(lambda c: (c * 9/5) + 32, celsius_list))\n",
        "\n",
        "# Example usage:\n",
        "print(celsius_to_fahrenheit([0, 20, 30]))  # Output: [32.0, 68.0, 86.0]\n"
      ],
      "metadata": {
        "id": "DraoU_jd3GE7"
      },
      "execution_count": null,
      "outputs": []
    },
    {
      "cell_type": "markdown",
      "source": [
        "10. Create a Python program that uses `filter()` to remove all the vowels from a given string."
      ],
      "metadata": {
        "id": "rXkMEYSg2_31"
      }
    },
    {
      "cell_type": "code",
      "source": [
        "def remove_vowels(s):\n",
        "    vowels = \"aeiouAEIOU\"\n",
        "    return ''.join(filter(lambda char: char not in vowels, s))\n",
        "\n",
        "# Example usage:\n",
        "print(remove_vowels(\"hello world\"))  # Output: \"hll wrld\"\n"
      ],
      "metadata": {
        "id": "WcbKvlmg3Hp2"
      },
      "execution_count": null,
      "outputs": []
    },
    {
      "cell_type": "markdown",
      "source": [
        "11. Imagine an accounting routine used in a book shop. It works on a list with sublists, which look like this:\n",
        "\n",
        "Order Number\n",
        "\n",
        "34587\n",
        "\n",
        "98762\n",
        "\n",
        "77226\n",
        "\n",
        "88112\n",
        "\n",
        "Book Title and Author\n",
        "\n",
        "Learning Python, Mark Lutz\n",
        "\n",
        "Programming Python, Mark Lutz\n",
        "\n",
        "Head First Python, Paul Barry\n",
        "\n",
        "Einführung in Python3, Bernd Klein\n",
        "\n",
        "Quantity\n",
        "\n",
        "4\n",
        "\n",
        "5\n",
        "\n",
        "3\n",
        "\n",
        "3\n",
        "\n",
        "Price per Item\n",
        "\n",
        "40.95\n",
        "\n",
        "56.80\n",
        "\n",
        "32.95\n",
        "\n",
        "24.99\n",
        "\n",
        "Write a Python program, which returns a list with 2-tuples. Each tuple consists of the order number and the\n",
        "product of the price per item and the quantity. The product should be increased by 10,- € if the value of the\n",
        "order is smaller than 100,00 €.\n",
        "\n",
        "Write a Python program using lambda and map."
      ],
      "metadata": {
        "id": "oYc_F2zc3IDf"
      }
    },
    {
      "cell_type": "code",
      "source": [
        "# Input data for the bookshop\n",
        "book_data = [\n",
        "    [34587, \"Learning Python, Mark Lutz\", 4, 40.95],\n",
        "    [98762, \"Programming Python, Mark Lutz\", 5, 56.80],\n",
        "    [77226, \"Head First Python, Paul Barry\", 3, 32.95],\n",
        "    [88112, \"Einführung in Python3, Bernd Klein\", 3, 24.99]\n",
        "]\n",
        "\n",
        "# Lambda function to calculate the final order cost\n",
        "process_order = lambda order: (\n",
        "    order[0],  # Order number\n",
        "    round(order[2] * order[3] + (10 if order[2] * order[3] < 100 else 0), 2)  # Total cost\n",
        ")\n",
        "\n",
        "# Use map to process all orders\n",
        "processed_orders = list(map(process_order, book_data))\n",
        "\n",
        "# Display the result\n",
        "print(processed_orders)\n"
      ],
      "metadata": {
        "id": "XdOFit294sr_"
      },
      "execution_count": null,
      "outputs": []
    }
  ]
}